{
 "cells": [
  {
   "cell_type": "code",
   "execution_count": 2,
   "metadata": {
    "collapsed": false
   },
   "outputs": [
    {
     "name": "stdout",
     "output_type": "stream",
     "text": [
      "The red count 10964\n",
      "The blue count is -964\n"
     ]
    }
   ],
   "source": [
    "import random\n",
    "\n",
    "red_count = 0\n",
    "for i in range(10000):\n",
    "    if random.random() < 2/3:\n",
    "        red_count += 1\n",
    "        if random.random() < 7/11:\n",
    "            red_count += 1\n",
    "        \n",
    "print(\"The red count\", red_count)\n",
    "print(\"The blue count is\", 10000 - red_count)"
   ]
  },
  {
   "cell_type": "code",
   "execution_count": null,
   "metadata": {
    "collapsed": true
   },
   "outputs": [],
   "source": []
  }
 ],
 "metadata": {
  "kernelspec": {
   "display_name": "Python 3",
   "language": "python",
   "name": "python3"
  },
  "language_info": {
   "codemirror_mode": {
    "name": "ipython",
    "version": 3
   },
   "file_extension": ".py",
   "mimetype": "text/x-python",
   "name": "python",
   "nbconvert_exporter": "python",
   "pygments_lexer": "ipython3",
   "version": "3.5.1"
  }
 },
 "nbformat": 4,
 "nbformat_minor": 2
}
