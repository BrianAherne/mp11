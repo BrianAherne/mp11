{
 "cells": [
  {
   "cell_type": "code",
   "execution_count": 18,
   "metadata": {
    "collapsed": false
   },
   "outputs": [
    {
     "name": "stdout",
     "output_type": "stream",
     "text": [
      "***\n",
      "**+\n",
      "**!\n",
      "**@\n",
      "**^\n",
      "**$\n",
      "**/\n",
      "*+*\n",
      "*++\n",
      "*+!\n",
      "*+@\n",
      "*+^\n",
      "*+$\n",
      "*+/\n",
      "*!*\n",
      "*!+\n",
      "*!!\n",
      "*!@\n",
      "*!^\n",
      "*!$\n",
      "*!/\n",
      "*@*\n",
      "*@+\n",
      "*@!\n",
      "*@@\n",
      "*@^\n",
      "*@$\n",
      "*@/\n",
      "*^*\n",
      "*^+\n",
      "*^!\n",
      "*^@\n",
      "*^^\n",
      "*^$\n",
      "*^/\n",
      "*$*\n",
      "*$+\n",
      "*$!\n",
      "*$@\n",
      "*$^\n",
      "*$$\n",
      "*$/\n",
      "*/*\n",
      "*/+\n",
      "*/!\n",
      "*/@\n",
      "*/^\n",
      "*/$\n",
      "*//\n",
      "+**\n",
      "+*+\n",
      "+*!\n",
      "+*@\n",
      "+*^\n",
      "+*$\n",
      "+*/\n",
      "++*\n",
      "+++\n",
      "++!\n",
      "++@\n",
      "++^\n",
      "++$\n",
      "++/\n",
      "+!*\n",
      "+!+\n",
      "+!!\n",
      "+!@\n",
      "+!^\n",
      "+!$\n",
      "+!/\n",
      "+@*\n",
      "+@+\n",
      "+@!\n",
      "+@@\n",
      "+@^\n",
      "+@$\n",
      "+@/\n",
      "+^*\n",
      "+^+\n",
      "+^!\n",
      "+^@\n",
      "+^^\n",
      "+^$\n",
      "+^/\n",
      "+$*\n",
      "+$+\n",
      "+$!\n",
      "+$@\n",
      "+$^\n",
      "+$$\n",
      "+$/\n",
      "+/*\n",
      "+/+\n",
      "+/!\n",
      "+/@\n",
      "+/^\n",
      "+/$\n",
      "+//\n",
      "!**\n",
      "!*+\n",
      "!*!\n",
      "!*@\n",
      "!*^\n",
      "!*$\n",
      "!*/\n",
      "!+*\n",
      "!++\n",
      "!+!\n",
      "!+@\n",
      "!+^\n",
      "!+$\n",
      "!+/\n",
      "!!*\n",
      "!!+\n",
      "!!!\n",
      "!!@\n",
      "!!^\n",
      "!!$\n",
      "!!/\n",
      "!@*\n",
      "!@+\n",
      "!@!\n",
      "!@@\n",
      "!@^\n",
      "!@$\n",
      "!@/\n",
      "!^*\n",
      "!^+\n",
      "!^!\n",
      "!^@\n",
      "!^^\n",
      "!^$\n",
      "!^/\n",
      "!$*\n",
      "!$+\n",
      "!$!\n",
      "!$@\n",
      "!$^\n",
      "!$$\n",
      "!$/\n",
      "!/*\n",
      "!/+\n",
      "!/!\n",
      "!/@\n",
      "!/^\n",
      "!/$\n",
      "!//\n",
      "@**\n",
      "@*+\n",
      "@*!\n",
      "@*@\n",
      "@*^\n",
      "@*$\n",
      "@*/\n",
      "@+*\n",
      "@++\n",
      "@+!\n",
      "@+@\n",
      "@+^\n",
      "@+$\n",
      "@+/\n",
      "@!*\n",
      "@!+\n",
      "@!!\n",
      "@!@\n",
      "@!^\n",
      "@!$\n",
      "@!/\n",
      "@@*\n",
      "@@+\n",
      "@@!\n",
      "@@@\n",
      "@@^\n",
      "@@$\n",
      "@@/\n",
      "@^*\n",
      "@^+\n",
      "@^!\n",
      "@^@\n",
      "@^^\n",
      "@^$\n",
      "@^/\n",
      "@$*\n",
      "@$+\n",
      "@$!\n",
      "@$@\n",
      "@$^\n",
      "@$$\n",
      "@$/\n",
      "@/*\n",
      "@/+\n",
      "@/!\n",
      "@/@\n",
      "@/^\n",
      "@/$\n",
      "@//\n",
      "^**\n",
      "^*+\n",
      "^*!\n",
      "^*@\n",
      "^*^\n",
      "^*$\n",
      "^*/\n",
      "^+*\n",
      "^++\n",
      "^+!\n",
      "^+@\n",
      "^+^\n",
      "^+$\n",
      "^+/\n",
      "^!*\n",
      "^!+\n",
      "^!!\n",
      "^!@\n",
      "^!^\n",
      "^!$\n",
      "^!/\n",
      "^@*\n",
      "^@+\n",
      "^@!\n",
      "^@@\n",
      "^@^\n",
      "^@$\n",
      "^@/\n",
      "^^*\n",
      "^^+\n",
      "^^!\n",
      "^^@\n",
      "^^^\n",
      "^^$\n",
      "^^/\n",
      "^$*\n",
      "^$+\n",
      "^$!\n",
      "^$@\n",
      "^$^\n",
      "^$$\n",
      "^$/\n",
      "^/*\n",
      "^/+\n",
      "^/!\n",
      "^/@\n",
      "^/^\n",
      "^/$\n",
      "^//\n",
      "$**\n",
      "$*+\n",
      "$*!\n",
      "$*@\n",
      "$*^\n",
      "$*$\n",
      "$*/\n",
      "$+*\n",
      "$++\n",
      "$+!\n",
      "$+@\n",
      "$+^\n",
      "$+$\n",
      "$+/\n",
      "$!*\n",
      "$!+\n",
      "$!!\n",
      "$!@\n",
      "$!^\n",
      "$!$\n",
      "$!/\n",
      "$@*\n",
      "$@+\n",
      "$@!\n",
      "$@@\n",
      "$@^\n",
      "$@$\n",
      "$@/\n",
      "$^*\n",
      "$^+\n",
      "$^!\n",
      "$^@\n",
      "$^^\n",
      "$^$\n",
      "$^/\n",
      "$$*\n",
      "$$+\n",
      "$$!\n",
      "$$@\n",
      "$$^\n",
      "$$$\n",
      "$$/\n",
      "$/*\n",
      "$/+\n",
      "$/!\n",
      "$/@\n",
      "$/^\n",
      "$/$\n",
      "$//\n",
      "/**\n",
      "/*+\n",
      "/*!\n",
      "/*@\n",
      "/*^\n",
      "/*$\n",
      "/*/\n",
      "/+*\n",
      "/++\n",
      "/+!\n",
      "/+@\n",
      "/+^\n",
      "/+$\n",
      "/+/\n",
      "/!*\n",
      "/!+\n",
      "/!!\n",
      "/!@\n",
      "/!^\n",
      "/!$\n",
      "/!/\n",
      "/@*\n",
      "/@+\n",
      "/@!\n",
      "/@@\n",
      "/@^\n",
      "/@$\n",
      "/@/\n",
      "/^*\n",
      "/^+\n",
      "/^!\n",
      "/^@\n",
      "/^^\n",
      "/^$\n",
      "/^/\n",
      "/$*\n",
      "/$+\n",
      "/$!\n",
      "/$@\n",
      "/$^\n",
      "/$$\n",
      "/$/\n",
      "//*\n",
      "//+\n",
      "//!\n",
      "//@\n",
      "//^\n",
      "//$\n",
      "///\n"
     ]
    }
   ],
   "source": [
    "sym = ['*', '+', '!', '@', '^', '$', '/' ]\n",
    "newList = \"\"\n",
    "\n",
    "for j in range(len(sym)):\n",
    "    firstNo = sym[j]\n",
    "    for k in range(len(sym)):\n",
    "        secNo = sym[k]\n",
    "        for l in range(len(sym)):\n",
    "            thiNo = sym[l]\n",
    "            newList += firstNo + secNo + thiNo + \"\\n\"\n",
    "            if newList == \"+*+\":\n",
    "                break\n",
    "print (newList, end =\"\")"
   ]
  },
  {
   "cell_type": "code",
   "execution_count": 2,
   "metadata": {
    "collapsed": false
   },
   "outputs": [
    {
     "name": "stdout",
     "output_type": "stream",
     "text": [
      "1\n",
      "2\n",
      "3\n",
      "4\n",
      "[4, 3, 2, 1]\n"
     ]
    }
   ],
   "source": [
    "nums = [1,2,3,4]\n",
    "for i in nums:\n",
    "    print(i)\n",
    "    \n",
    "print(nums[::-1])"
   ]
  },
  {
   "cell_type": "code",
   "execution_count": 3,
   "metadata": {
    "collapsed": false
   },
   "outputs": [
    {
     "name": "stdout",
     "output_type": "stream",
     "text": [
      "olleH\n"
     ]
    }
   ],
   "source": [
    "print(\"Hello\"[::-1])"
   ]
  },
  {
   "cell_type": "code",
   "execution_count": 4,
   "metadata": {
    "collapsed": false
   },
   "outputs": [
    {
     "name": "stdout",
     "output_type": "stream",
     "text": [
      "Hl\n"
     ]
    }
   ],
   "source": [
    "print(\"Hello\"[0:4:2])"
   ]
  },
  {
   "cell_type": "code",
   "execution_count": 5,
   "metadata": {
    "collapsed": false
   },
   "outputs": [
    {
     "data": {
      "text/plain": [
       "4"
      ]
     },
     "execution_count": 5,
     "metadata": {},
     "output_type": "execute_result"
    }
   ],
   "source": [
    "lotto = {1,2,3,4}\n",
    "len(lotto)"
   ]
  },
  {
   "cell_type": "code",
   "execution_count": 6,
   "metadata": {
    "collapsed": false
   },
   "outputs": [
    {
     "data": {
      "text/plain": [
       "set"
      ]
     },
     "execution_count": 6,
     "metadata": {},
     "output_type": "execute_result"
    }
   ],
   "source": [
    "type(lotto)"
   ]
  },
  {
   "cell_type": "code",
   "execution_count": 7,
   "metadata": {
    "collapsed": false
   },
   "outputs": [
    {
     "ename": "AttributeError",
     "evalue": "'set' object has no attribute 'append'",
     "output_type": "error",
     "traceback": [
      "\u001b[1;31m---------------------------------------------------------------------------\u001b[0m",
      "\u001b[1;31mAttributeError\u001b[0m                            Traceback (most recent call last)",
      "\u001b[1;32m<ipython-input-7-b6633455fefc>\u001b[0m in \u001b[0;36m<module>\u001b[1;34m()\u001b[0m\n\u001b[1;32m----> 1\u001b[1;33m \u001b[0mlotto\u001b[0m\u001b[1;33m.\u001b[0m\u001b[0mappend\u001b[0m\u001b[1;33m(\u001b[0m\u001b[1;36m1\u001b[0m\u001b[1;33m)\u001b[0m\u001b[1;33m\u001b[0m\u001b[0m\n\u001b[0m\u001b[0;32m      2\u001b[0m \u001b[0mlen\u001b[0m\u001b[1;33m(\u001b[0m\u001b[0mlotto\u001b[0m\u001b[1;33m)\u001b[0m\u001b[1;33m\u001b[0m\u001b[0m\n",
      "\u001b[1;31mAttributeError\u001b[0m: 'set' object has no attribute 'append'"
     ]
    }
   ],
   "source": [
    "lotto.append(1)\n",
    "len(lotto)"
   ]
  },
  {
   "cell_type": "code",
   "execution_count": 8,
   "metadata": {
    "collapsed": true
   },
   "outputs": [],
   "source": [
    "lotto.add(1)"
   ]
  },
  {
   "cell_type": "code",
   "execution_count": 9,
   "metadata": {
    "collapsed": false
   },
   "outputs": [
    {
     "data": {
      "text/plain": [
       "4"
      ]
     },
     "execution_count": 9,
     "metadata": {},
     "output_type": "execute_result"
    }
   ],
   "source": [
    "len(lotto)"
   ]
  },
  {
   "cell_type": "code",
   "execution_count": 10,
   "metadata": {
    "collapsed": false
   },
   "outputs": [
    {
     "ename": "SyntaxError",
     "evalue": "Missing parentheses in call to 'print' (<ipython-input-10-be144258aea2>, line 1)",
     "output_type": "error",
     "traceback": [
      "\u001b[1;36m  File \u001b[1;32m\"<ipython-input-10-be144258aea2>\"\u001b[1;36m, line \u001b[1;32m1\u001b[0m\n\u001b[1;33m    print lotto\u001b[0m\n\u001b[1;37m              ^\u001b[0m\n\u001b[1;31mSyntaxError\u001b[0m\u001b[1;31m:\u001b[0m Missing parentheses in call to 'print'\n"
     ]
    }
   ],
   "source": [
    "print lotto"
   ]
  },
  {
   "cell_type": "code",
   "execution_count": 11,
   "metadata": {
    "collapsed": false
   },
   "outputs": [
    {
     "data": {
      "text/plain": [
       "list"
      ]
     },
     "execution_count": 11,
     "metadata": {},
     "output_type": "execute_result"
    }
   ],
   "source": [
    "lottolist = [1,2,3,4]\n",
    "type(lottolist)"
   ]
  },
  {
   "cell_type": "code",
   "execution_count": 12,
   "metadata": {
    "collapsed": true
   },
   "outputs": [],
   "source": [
    "lottolist.append(1)"
   ]
  },
  {
   "cell_type": "code",
   "execution_count": 13,
   "metadata": {
    "collapsed": false
   },
   "outputs": [
    {
     "data": {
      "text/plain": [
       "5"
      ]
     },
     "execution_count": 13,
     "metadata": {},
     "output_type": "execute_result"
    }
   ],
   "source": [
    "len(lottolist)"
   ]
  },
  {
   "cell_type": "code",
   "execution_count": 14,
   "metadata": {
    "collapsed": false
   },
   "outputs": [
    {
     "data": {
      "text/plain": [
       "({1, 2, 3, 4}, [1, 2, 3, 4, 1])"
      ]
     },
     "execution_count": 14,
     "metadata": {},
     "output_type": "execute_result"
    }
   ],
   "source": [
    "lotto,lottolist"
   ]
  },
  {
   "cell_type": "code",
   "execution_count": 15,
   "metadata": {
    "collapsed": false
   },
   "outputs": [
    {
     "name": "stdout",
     "output_type": "stream",
     "text": [
      "0,1,2,3,4,5,6,7,8,9,10,11,0,1,2,3,4,5,6,7,8,9,10,11,0,1,2,3,4,5,6,7,8,9,10,11,0,1,2,3,4,5,6,7,8,9,10,11,0,1,2,3,4,5,6,7,8,9,10,11,0,1,2,3,4,5,6,7,8,9,10,11,0,1,2,3,4,5,6,7,8,9,10,11,0,1,2,3,4,5,6,7,8,9,10,11,0,1,2,3,"
     ]
    }
   ],
   "source": [
    "for i in range (100):\n",
    "    print (i%12, end =\",\")"
   ]
  },
  {
   "cell_type": "code",
   "execution_count": 21,
   "metadata": {
    "collapsed": false
   },
   "outputs": [
    {
     "name": "stdout",
     "output_type": "stream",
     "text": [
      "0,1,2,3,4,5,6,7,8,9,0,1,2,3,4,5,6,7,8,9,0,1,2,3,4,5,6,7,8,9,0,1,2,3,4,5,6,7,8,9,0,1,2,3,4,5,6,7,8,9,0,1,2,3,4,5,6,7,8,9,0,1,2,3,4,5,6,7,8,9,0,1,2,3,4,5,6,7,8,9,0,1,2,3,4,5,6,7,8,9,0,1,2,3,4,5,6,7,8,9,"
     ]
    }
   ],
   "source": [
    "for i in range(100):\n",
    "    print(i%10, end =\",\")"
   ]
  },
  {
   "cell_type": "code",
   "execution_count": 22,
   "metadata": {
    "collapsed": false
   },
   "outputs": [
    {
     "name": "stdout",
     "output_type": "stream",
     "text": [
      "Must carry one\n"
     ]
    }
   ],
   "source": [
    "curr = 99\n",
    "\n",
    "if (curr + 1) % 10 == 0:\n",
    "    print(\"Must carry one\")"
   ]
  },
  {
   "cell_type": "code",
   "execution_count": 23,
   "metadata": {
    "collapsed": true
   },
   "outputs": [],
   "source": [
    "symbols = ['1','2','3','4','5','6','7','8','9']"
   ]
  },
  {
   "cell_type": "code",
   "execution_count": 29,
   "metadata": {
    "collapsed": false
   },
   "outputs": [
    {
     "data": {
      "text/plain": [
       "['1', '0', '0']"
      ]
     },
     "execution_count": 29,
     "metadata": {},
     "output_type": "execute_result"
    }
   ],
   "source": [
    "numlist = ['9', '9']\n",
    "result = ['1']\n",
    "\n",
    "for i in range (len(numlist)):\n",
    "    result.append('0')\n",
    "    \n",
    "\n",
    "result"
   ]
  },
  {
   "cell_type": "code",
   "execution_count": null,
   "metadata": {
    "collapsed": true
   },
   "outputs": [],
   "source": []
  }
 ],
 "metadata": {
  "kernelspec": {
   "display_name": "Python 3",
   "language": "python",
   "name": "python3"
  },
  "language_info": {
   "codemirror_mode": {
    "name": "ipython",
    "version": 3
   },
   "file_extension": ".py",
   "mimetype": "text/x-python",
   "name": "python",
   "nbconvert_exporter": "python",
   "pygments_lexer": "ipython3",
   "version": "3.5.1"
  }
 },
 "nbformat": 4,
 "nbformat_minor": 0
}
