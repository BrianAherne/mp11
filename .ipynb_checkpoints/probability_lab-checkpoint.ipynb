{
 "cells": [
  {
   "cell_type": "code",
   "execution_count": 1,
   "metadata": {
    "collapsed": false
   },
   "outputs": [
    {
     "data": {
      "text/plain": [
       "0.09332318027147946"
      ]
     },
     "execution_count": 1,
     "metadata": {},
     "output_type": "execute_result"
    }
   ],
   "source": [
    "import random\n",
    "random.random()"
   ]
  },
  {
   "cell_type": "code",
   "execution_count": 2,
   "metadata": {
    "collapsed": true
   },
   "outputs": [],
   "source": [
    "if random.random() < 8/12:\n",
    "    print(\"The first marble was red\")"
   ]
  },
  {
   "cell_type": "code",
   "execution_count": 3,
   "metadata": {
    "collapsed": false
   },
   "outputs": [
    {
     "name": "stdout",
     "output_type": "stream",
     "text": [
      "The first marble was red\n",
      "The first marble was red\n",
      "The first marble was red\n",
      "The first marble was red\n",
      "The first marble was red\n"
     ]
    }
   ],
   "source": [
    "for i in range(10):\n",
    "    if random.random() < 8/12:\n",
    "        print(\"The first marble was red\")"
   ]
  },
  {
   "cell_type": "code",
   "execution_count": 6,
   "metadata": {
    "collapsed": false
   },
   "outputs": [
    {
     "name": "stdout",
     "output_type": "stream",
     "text": [
      "0.66651\n"
     ]
    }
   ],
   "source": [
    "num_red = 0\n",
    "for i in range(100000):\n",
    "    if random.random() < 8/12:\n",
    "        num_red += 1\n",
    "print(num_red/100000)        "
   ]
  },
  {
   "cell_type": "code",
   "execution_count": 16,
   "metadata": {
    "collapsed": false
   },
   "outputs": [
    {
     "name": "stdout",
     "output_type": "stream",
     "text": [
      "0.6669\n"
     ]
    }
   ],
   "source": [
    "iterations = 100000\n",
    "num_red = 8\n",
    "num_marbles = 12\n",
    "red_count = 0\n",
    "for i in range(iterations):\n",
    "    if random.random() < num_red/num_marbles:\n",
    "        red_count += 1\n",
    "print(red_count/iterations)   "
   ]
  },
  {
   "cell_type": "code",
   "execution_count": 17,
   "metadata": {
    "collapsed": false
   },
   "outputs": [
    {
     "name": "stdout",
     "output_type": "stream",
     "text": [
      "0.42439\n"
     ]
    }
   ],
   "source": [
    "iterations = 100000\n",
    "num_red = 8\n",
    "num_marbles = 12\n",
    "red_count = 0\n",
    "\n",
    "for i in range(iterations):\n",
    "    if random.random() < num_red/num_marbles:\n",
    "        if random.random() < (num_red-1)/(num_marbles-1):\n",
    "            red_count += 1\n",
    "print(red_count/iterations)  "
   ]
  },
  {
   "cell_type": "code",
   "execution_count": 23,
   "metadata": {
    "collapsed": false
   },
   "outputs": [
    {
     "name": "stdout",
     "output_type": "stream",
     "text": [
      "0.09213\n"
     ]
    }
   ],
   "source": [
    "iterations = 100000\n",
    "num_blue = 4\n",
    "num_marbles = 12\n",
    "blue_count = 0\n",
    "\n",
    "for i in range(iterations):\n",
    "    if random.random() < num_blue/num_marbles:\n",
    "        if random.random() < (num_blue-1)/(num_marbles-1):\n",
    "            blue_count += 1\n",
    "print(blue_count/iterations)  "
   ]
  },
  {
   "cell_type": "code",
   "execution_count": 24,
   "metadata": {
    "collapsed": false
   },
   "outputs": [
    {
     "name": "stdout",
     "output_type": "stream",
     "text": [
      "0.12126\n"
     ]
    }
   ],
   "source": [
    "iterations = 100000\n",
    "num_red = 8\n",
    "num_marbles = 12\n",
    "red_count = 0\n",
    "\n",
    "for i in range(iterations):\n",
    "    if random.random() > num_red/num_marbles:\n",
    "        if random.random() > (num_red-1)/(num_marbles-1):\n",
    "            red_count += 1\n",
    "print(red_count/iterations)  "
   ]
  },
  {
   "cell_type": "code",
   "execution_count": 25,
   "metadata": {
    "collapsed": false
   },
   "outputs": [
    {
     "name": "stdout",
     "output_type": "stream",
     "text": [
      "0.09065\n"
     ]
    }
   ],
   "source": [
    "iterations = 100000\n",
    "num_red = 8\n",
    "num_marbles = 12\n",
    "red_count = 0\n",
    "\n",
    "for i in range(iterations):\n",
    "    if random.random() > num_red/num_marbles:\n",
    "        if random.random() > (num_red)/(num_marbles-1):\n",
    "            red_count += 1\n",
    "print(red_count/iterations) "
   ]
  },
  {
   "cell_type": "code",
   "execution_count": 26,
   "metadata": {
    "collapsed": false
   },
   "outputs": [
    {
     "name": "stdout",
     "output_type": "stream",
     "text": [
      "0.24542\n",
      "0.243\n"
     ]
    }
   ],
   "source": [
    "iterations = 100000\n",
    "num_red = 8\n",
    "num_blue = 4\n",
    "num_marbles = 12\n",
    "redblue_count = 0\n",
    "bluered_count = 0\n",
    "\n",
    "for i in range(iterations):\n",
    "    if random.random() < num_red/num_marbles:\n",
    "        if random.random() < (num_blue)/(num_marbles-1):\n",
    "            redblue_count += 1\n",
    "print(redblue_count/iterations) \n",
    "\n",
    "for i in range(iterations):\n",
    "    if random.random() < num_blue/num_marbles:\n",
    "        if random.random() < (num_red)/(num_marbles-1):\n",
    "        \n",
    "            bluered_count += 1\n",
    "print(bluered_count/iterations)"
   ]
  },
  {
   "cell_type": "code",
   "execution_count": null,
   "metadata": {
    "collapsed": true
   },
   "outputs": [],
   "source": []
  }
 ],
 "metadata": {
  "kernelspec": {
   "display_name": "Python 3",
   "language": "python",
   "name": "python3"
  },
  "language_info": {
   "codemirror_mode": {
    "name": "ipython",
    "version": 3
   },
   "file_extension": ".py",
   "mimetype": "text/x-python",
   "name": "python",
   "nbconvert_exporter": "python",
   "pygments_lexer": "ipython3",
   "version": "3.5.1"
  }
 },
 "nbformat": 4,
 "nbformat_minor": 0
}
